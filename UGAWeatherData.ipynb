{
 "cells": [
  {
   "cell_type": "code",
   "execution_count": null,
   "id": "0fda2dd8",
   "metadata": {},
   "outputs": [],
   "source": [
    "import requests\n",
    "import json\n",
    "import datetime\n",
    "\n",
    "now = datetime.datetime.now()\n",
    "now = now.strftime(\"%Y-%m-%d %H:%M:%S\")\n",
    "\n",
    "api_key = \"vpg9qowh\"\n",
    "api_url = \"https://api.weatherstem.com/api\"\n",
    "data = {\"api_key\":api_key,\"stations\":[\"buttsmehre@athensclarke.weatherstem.com\"] }\n",
    "data = json.dumps(data)\n",
    "requests = requests.post(api_url,data=data)\n",
    "data = requests.json()\n",
    "\n",
    "\n",
    "\n",
    "def returnImg(data):\n",
    "    data = data[0]['station']['cameras'][0]['image']\n",
    "    return data\n",
    "    \n",
    "\n",
    "\n",
    "def returnTemp(data):\n",
    "    return data[0]['record']['readings'][2]['value']\n",
    "def returnHumid(data):\n",
    "    return data[0]['record']['readings'][3]['value']\n",
    "\n",
    "\n",
    "\n",
    "from IPython.display import Image\n",
    "import urllib.request\n",
    "urllib.request.urlretrieve(returnImg(data), \"image.jpg\")\n",
    "Image(filename='image.jpg')"
   ]
  },
  {
   "cell_type": "markdown",
   "id": "da6dda68",
   "metadata": {},
   "source": [
    "![](image.jpg)"
   ]
  },
  {
   "cell_type": "code",
   "execution_count": null,
   "id": "4b7a0014",
   "metadata": {},
   "outputs": [],
   "source": [
    "print (\"hava \" + returnTemp(data) + \" derece fahrenayt\")"
   ]
  },
  {
   "cell_type": "code",
   "execution_count": null,
   "id": "10dcc4cd",
   "metadata": {},
   "outputs": [],
   "source": [
    "f = returnTemp(data)\n",
    "f = float(f)\n",
    "\n",
    "c = (f -32 )  * (5/9)\n",
    "\n",
    "print(\"yani\", round(c,2) , \"C\" , \"falan\")"
   ]
  }
 ],
 "metadata": {
  "kernelspec": {
   "display_name": "Python 3 (Spyder)",
   "language": "python3",
   "name": "python3"
  },
  "language_info": {
   "codemirror_mode": {
    "name": "ipython",
    "version": 3
   },
   "file_extension": ".py",
   "mimetype": "text/x-python",
   "name": "python",
   "nbconvert_exporter": "python",
   "pygments_lexer": "ipython3",
   "version": "3.8.8"
  }
 },
 "nbformat": 4,
 "nbformat_minor": 5
}
