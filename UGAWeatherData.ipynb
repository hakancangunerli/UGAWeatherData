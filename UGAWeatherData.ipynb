{
 "cells": [
  {
   "cell_type": "code",
   "execution_count": 8,
   "id": "0fda2dd8",
   "metadata": {},
   "outputs": [],
   "source": [
    "import requests\n",
    "import json\n",
    "import datetime\n",
    "\n",
    "now = datetime.datetime.now()\n",
    "now = now.strftime(\"%Y-%m-%d %H:%M:%S\")\n",
    "\n",
    "api_key = \"vpg9qowh\"\n",
    "api_url = \"https://api.weatherstem.com/api\"\n",
    "data = {\"api_key\":api_key,\"stations\":[\"buttsmehre@athensclarke.weatherstem.com\"] }\n",
    "data = json.dumps(data)\n",
    "requests = requests.post(api_url,data=data)\n",
    "data = requests.json()\n",
    "\n",
    "\n",
    "\n",
    "def returnImg(data):\n",
    "    data = data[0]['station']['cameras'][0]['image']\n",
    "    return data\n",
    "    \n",
    "\n",
    "\n",
    "def returnTemp(data):\n",
    "    return data[0]['record']['readings'][2]['value']\n",
    "def returnHumid(data):\n",
    "    return data[0]['record']['readings'][3]['value']\n",
    "\n",
    "\n",
    "\n",
    "from IPython.display import Image\n",
    "import urllib.request\n",
    "urllib.request.urlretrieve(returnImg(data), \"new_image.jpg\")\n",
    "Image(filename='new_image.jpg')\n",
    "\n",
    "\n",
    "import tkinter as tk\n",
    "from PIL import ImageTk, Image\n",
    "\n",
    "\n",
    "\n"
   ]
  },
  {
   "cell_type": "code",
   "execution_count": 9,
   "id": "4b7a0014",
   "metadata": {},
   "outputs": [
    {
     "name": "stdout",
     "output_type": "stream",
     "text": [
      "hava 75.0 derece fahrenayt\n"
     ]
    }
   ],
   "source": [
    "print (\"hava \" + returnTemp(data) + \" derece fahrenayt\")"
   ]
  },
  {
   "cell_type": "code",
   "execution_count": 10,
   "id": "10dcc4cd",
   "metadata": {},
   "outputs": [
    {
     "name": "stdout",
     "output_type": "stream",
     "text": [
      "yani 23.89 C falan\n"
     ]
    }
   ],
   "source": [
    "f = returnTemp(data)\n",
    "f = float(f)\n",
    "\n",
    "c = (f -32 )  * (5/9)\n",
    "\n",
    "print(\"yani\", round(c,2) , \"C\" , \"falan\")"
   ]
  },
  {
   "cell_type": "code",
   "execution_count": 12,
   "id": "c4d43a65",
   "metadata": {},
   "outputs": [],
   "source": [
    "#tkinter resizer when weather image is created. \n",
    "from tkinter import *\n",
    "from tkinter import ttk\n",
    "from PIL import Image, ImageTk\n",
    "\n",
    "root = Tk()\n",
    "root.title(\"Weather\")\n",
    "root.geometry('600x600')\n",
    "\n",
    "def resize_image(event):\n",
    "    new_width = event.width\n",
    "    new_height = event.height\n",
    "    image = copy_of_image.resize((new_width, new_height))\n",
    "    photo = ImageTk.PhotoImage(image)\n",
    "    label.config(image = photo)\n",
    "    label.image = photo \n",
    "\n",
    "image = Image.open('./new_image.jpg')\n",
    "copy_of_image = image.copy()\n",
    "photo = ImageTk.PhotoImage(image)\n",
    "label = ttk.Label(root, image = photo)\n",
    "label.bind('<Configure>', resize_image)\n",
    "label.pack(fill=BOTH, expand = YES)\n",
    "\n",
    "root.mainloop()"
   ]
  },
  {
   "cell_type": "markdown",
   "id": "6aa00b4a",
   "metadata": {},
   "source": [
    "![](Screen Shot 2021-11-18 at 11.55.45 AM.png)"
   ]
  }
 ],
 "metadata": {
  "kernelspec": {
   "display_name": "Python 3 (Spyder)",
   "language": "python3",
   "name": "python3"
  },
  "language_info": {
   "codemirror_mode": {
    "name": "ipython",
    "version": 3
   },
   "file_extension": ".py",
   "mimetype": "text/x-python",
   "name": "python",
   "nbconvert_exporter": "python",
   "pygments_lexer": "ipython3",
   "version": "3.8.8"
  }
 },
 "nbformat": 4,
 "nbformat_minor": 5
}
